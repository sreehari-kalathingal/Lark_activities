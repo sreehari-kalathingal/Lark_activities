{
 "cells": [
  {
   "cell_type": "markdown",
   "id": "cffcd6a3",
   "metadata": {},
   "source": [
    "# Mushroom Classification"
   ]
  },
  {
   "cell_type": "markdown",
   "id": "9e5d24d4",
   "metadata": {},
   "source": [
    "To make a suitable machine learning algorithm to predict if the mushroom is edible or poisonous (e or p) using the given dataset."
   ]
  },
  {
   "cell_type": "code",
   "execution_count": 4,
   "id": "17c6ff85",
   "metadata": {},
   "outputs": [],
   "source": [
    "import pandas as pd\n",
    "import numpy as np\n",
    "\n",
    "import matplotlib.pyplot as plt\n",
    "import seaborn as sns"
   ]
  },
  {
   "cell_type": "code",
   "execution_count": 5,
   "id": "3458eb29",
   "metadata": {},
   "outputs": [],
   "source": [
    "from scipy import stats\n",
    "from sklearn.preprocessing import LabelEncoder\n",
    "from sklearn.metrics import accuracy_score, confusion_matrix\n",
    "from sklearn.model_selection import train_test_split"
   ]
  },
  {
   "cell_type": "code",
   "execution_count": 6,
   "id": "1f5267ca",
   "metadata": {},
   "outputs": [],
   "source": [
    "from sklearn.tree import DecisionTreeClassifier\n",
    "from sklearn.linear_model import LogisticRegression\n",
    "from sklearn.naive_bayes import GaussianNB, BernoulliNB, MultinomialNB"
   ]
  },
  {
   "cell_type": "markdown",
   "id": "e0eaedfa",
   "metadata": {},
   "source": [
    "# Reading the dataset into python"
   ]
  },
  {
   "cell_type": "code",
   "execution_count": 7,
   "id": "9526aafa",
   "metadata": {},
   "outputs": [],
   "source": [
    "df=pd.read_csv(\"c:/Users/Sreehari/Downloads/mushrooms.csv\")"
   ]
  },
  {
   "cell_type": "code",
   "execution_count": 8,
   "id": "02993e3f",
   "metadata": {},
   "outputs": [
    {
     "data": {
      "text/html": [
       "<div>\n",
       "<style scoped>\n",
       "    .dataframe tbody tr th:only-of-type {\n",
       "        vertical-align: middle;\n",
       "    }\n",
       "\n",
       "    .dataframe tbody tr th {\n",
       "        vertical-align: top;\n",
       "    }\n",
       "\n",
       "    .dataframe thead th {\n",
       "        text-align: right;\n",
       "    }\n",
       "</style>\n",
       "<table border=\"1\" class=\"dataframe\">\n",
       "  <thead>\n",
       "    <tr style=\"text-align: right;\">\n",
       "      <th></th>\n",
       "      <th>class</th>\n",
       "      <th>cap-shape</th>\n",
       "      <th>cap-surface</th>\n",
       "      <th>cap-color</th>\n",
       "      <th>bruises</th>\n",
       "      <th>odor</th>\n",
       "      <th>gill-attachment</th>\n",
       "      <th>gill-spacing</th>\n",
       "      <th>gill-size</th>\n",
       "      <th>gill-color</th>\n",
       "      <th>...</th>\n",
       "      <th>stalk-surface-below-ring</th>\n",
       "      <th>stalk-color-above-ring</th>\n",
       "      <th>stalk-color-below-ring</th>\n",
       "      <th>veil-type</th>\n",
       "      <th>veil-color</th>\n",
       "      <th>ring-number</th>\n",
       "      <th>ring-type</th>\n",
       "      <th>spore-print-color</th>\n",
       "      <th>population</th>\n",
       "      <th>habitat</th>\n",
       "    </tr>\n",
       "  </thead>\n",
       "  <tbody>\n",
       "    <tr>\n",
       "      <th>0</th>\n",
       "      <td>p</td>\n",
       "      <td>x</td>\n",
       "      <td>s</td>\n",
       "      <td>n</td>\n",
       "      <td>t</td>\n",
       "      <td>p</td>\n",
       "      <td>f</td>\n",
       "      <td>c</td>\n",
       "      <td>n</td>\n",
       "      <td>k</td>\n",
       "      <td>...</td>\n",
       "      <td>s</td>\n",
       "      <td>w</td>\n",
       "      <td>w</td>\n",
       "      <td>p</td>\n",
       "      <td>w</td>\n",
       "      <td>o</td>\n",
       "      <td>p</td>\n",
       "      <td>k</td>\n",
       "      <td>s</td>\n",
       "      <td>u</td>\n",
       "    </tr>\n",
       "    <tr>\n",
       "      <th>1</th>\n",
       "      <td>e</td>\n",
       "      <td>x</td>\n",
       "      <td>s</td>\n",
       "      <td>y</td>\n",
       "      <td>t</td>\n",
       "      <td>a</td>\n",
       "      <td>f</td>\n",
       "      <td>c</td>\n",
       "      <td>b</td>\n",
       "      <td>k</td>\n",
       "      <td>...</td>\n",
       "      <td>s</td>\n",
       "      <td>w</td>\n",
       "      <td>w</td>\n",
       "      <td>p</td>\n",
       "      <td>w</td>\n",
       "      <td>o</td>\n",
       "      <td>p</td>\n",
       "      <td>n</td>\n",
       "      <td>n</td>\n",
       "      <td>g</td>\n",
       "    </tr>\n",
       "    <tr>\n",
       "      <th>2</th>\n",
       "      <td>e</td>\n",
       "      <td>b</td>\n",
       "      <td>s</td>\n",
       "      <td>w</td>\n",
       "      <td>t</td>\n",
       "      <td>l</td>\n",
       "      <td>f</td>\n",
       "      <td>c</td>\n",
       "      <td>b</td>\n",
       "      <td>n</td>\n",
       "      <td>...</td>\n",
       "      <td>s</td>\n",
       "      <td>w</td>\n",
       "      <td>w</td>\n",
       "      <td>p</td>\n",
       "      <td>w</td>\n",
       "      <td>o</td>\n",
       "      <td>p</td>\n",
       "      <td>n</td>\n",
       "      <td>n</td>\n",
       "      <td>m</td>\n",
       "    </tr>\n",
       "    <tr>\n",
       "      <th>3</th>\n",
       "      <td>p</td>\n",
       "      <td>x</td>\n",
       "      <td>y</td>\n",
       "      <td>w</td>\n",
       "      <td>t</td>\n",
       "      <td>p</td>\n",
       "      <td>f</td>\n",
       "      <td>c</td>\n",
       "      <td>n</td>\n",
       "      <td>n</td>\n",
       "      <td>...</td>\n",
       "      <td>s</td>\n",
       "      <td>w</td>\n",
       "      <td>w</td>\n",
       "      <td>p</td>\n",
       "      <td>w</td>\n",
       "      <td>o</td>\n",
       "      <td>p</td>\n",
       "      <td>k</td>\n",
       "      <td>s</td>\n",
       "      <td>u</td>\n",
       "    </tr>\n",
       "    <tr>\n",
       "      <th>4</th>\n",
       "      <td>e</td>\n",
       "      <td>x</td>\n",
       "      <td>s</td>\n",
       "      <td>g</td>\n",
       "      <td>f</td>\n",
       "      <td>n</td>\n",
       "      <td>f</td>\n",
       "      <td>w</td>\n",
       "      <td>b</td>\n",
       "      <td>k</td>\n",
       "      <td>...</td>\n",
       "      <td>s</td>\n",
       "      <td>w</td>\n",
       "      <td>w</td>\n",
       "      <td>p</td>\n",
       "      <td>w</td>\n",
       "      <td>o</td>\n",
       "      <td>e</td>\n",
       "      <td>n</td>\n",
       "      <td>a</td>\n",
       "      <td>g</td>\n",
       "    </tr>\n",
       "  </tbody>\n",
       "</table>\n",
       "<p>5 rows × 23 columns</p>\n",
       "</div>"
      ],
      "text/plain": [
       "  class cap-shape cap-surface cap-color bruises odor gill-attachment  \\\n",
       "0     p         x           s         n       t    p               f   \n",
       "1     e         x           s         y       t    a               f   \n",
       "2     e         b           s         w       t    l               f   \n",
       "3     p         x           y         w       t    p               f   \n",
       "4     e         x           s         g       f    n               f   \n",
       "\n",
       "  gill-spacing gill-size gill-color  ... stalk-surface-below-ring  \\\n",
       "0            c         n          k  ...                        s   \n",
       "1            c         b          k  ...                        s   \n",
       "2            c         b          n  ...                        s   \n",
       "3            c         n          n  ...                        s   \n",
       "4            w         b          k  ...                        s   \n",
       "\n",
       "  stalk-color-above-ring stalk-color-below-ring veil-type veil-color  \\\n",
       "0                      w                      w         p          w   \n",
       "1                      w                      w         p          w   \n",
       "2                      w                      w         p          w   \n",
       "3                      w                      w         p          w   \n",
       "4                      w                      w         p          w   \n",
       "\n",
       "  ring-number ring-type spore-print-color population habitat  \n",
       "0           o         p                 k          s       u  \n",
       "1           o         p                 n          n       g  \n",
       "2           o         p                 n          n       m  \n",
       "3           o         p                 k          s       u  \n",
       "4           o         e                 n          a       g  \n",
       "\n",
       "[5 rows x 23 columns]"
      ]
     },
     "execution_count": 8,
     "metadata": {},
     "output_type": "execute_result"
    }
   ],
   "source": [
    "df.head()"
   ]
  },
  {
   "cell_type": "code",
   "execution_count": 9,
   "id": "74de43da",
   "metadata": {},
   "outputs": [
    {
     "data": {
      "text/plain": [
       "Index(['class', 'cap-shape', 'cap-surface', 'cap-color', 'bruises', 'odor',\n",
       "       'gill-attachment', 'gill-spacing', 'gill-size', 'gill-color',\n",
       "       'stalk-shape', 'stalk-root', 'stalk-surface-above-ring',\n",
       "       'stalk-surface-below-ring', 'stalk-color-above-ring',\n",
       "       'stalk-color-below-ring', 'veil-type', 'veil-color', 'ring-number',\n",
       "       'ring-type', 'spore-print-color', 'population', 'habitat'],\n",
       "      dtype='object')"
      ]
     },
     "execution_count": 9,
     "metadata": {},
     "output_type": "execute_result"
    }
   ],
   "source": [
    "df.columns"
   ]
  },
  {
   "cell_type": "code",
   "execution_count": 11,
   "id": "ab3210b7",
   "metadata": {},
   "outputs": [
    {
     "data": {
      "text/plain": [
       "(8124, 23)"
      ]
     },
     "execution_count": 11,
     "metadata": {},
     "output_type": "execute_result"
    }
   ],
   "source": [
    "df.shape"
   ]
  },
  {
   "cell_type": "code",
   "execution_count": 13,
   "id": "f795076f",
   "metadata": {},
   "outputs": [
    {
     "name": "stdout",
     "output_type": "stream",
     "text": [
      "<class 'pandas.core.frame.DataFrame'>\n",
      "RangeIndex: 8124 entries, 0 to 8123\n",
      "Data columns (total 23 columns):\n",
      " #   Column                    Non-Null Count  Dtype \n",
      "---  ------                    --------------  ----- \n",
      " 0   class                     8124 non-null   object\n",
      " 1   cap-shape                 8124 non-null   object\n",
      " 2   cap-surface               8124 non-null   object\n",
      " 3   cap-color                 8124 non-null   object\n",
      " 4   bruises                   8124 non-null   object\n",
      " 5   odor                      8124 non-null   object\n",
      " 6   gill-attachment           8124 non-null   object\n",
      " 7   gill-spacing              8124 non-null   object\n",
      " 8   gill-size                 8124 non-null   object\n",
      " 9   gill-color                8124 non-null   object\n",
      " 10  stalk-shape               8124 non-null   object\n",
      " 11  stalk-root                8124 non-null   object\n",
      " 12  stalk-surface-above-ring  8124 non-null   object\n",
      " 13  stalk-surface-below-ring  8124 non-null   object\n",
      " 14  stalk-color-above-ring    8124 non-null   object\n",
      " 15  stalk-color-below-ring    8124 non-null   object\n",
      " 16  veil-type                 8124 non-null   object\n",
      " 17  veil-color                8124 non-null   object\n",
      " 18  ring-number               8124 non-null   object\n",
      " 19  ring-type                 8124 non-null   object\n",
      " 20  spore-print-color         8124 non-null   object\n",
      " 21  population                8124 non-null   object\n",
      " 22  habitat                   8124 non-null   object\n",
      "dtypes: object(23)\n",
      "memory usage: 1.4+ MB\n"
     ]
    }
   ],
   "source": [
    "df.info()"
   ]
  },
  {
   "cell_type": "markdown",
   "id": "db3d24c4",
   "metadata": {},
   "source": [
    "# insights"
   ]
  },
  {
   "cell_type": "markdown",
   "id": "707635e5",
   "metadata": {},
   "source": [
    ": there are 22 feature columns and 8124 rows."
   ]
  },
  {
   "cell_type": "markdown",
   "id": "8c25a5bf",
   "metadata": {},
   "source": [
    ": All columns are categorical"
   ]
  },
  {
   "cell_type": "markdown",
   "id": "2c9de10f",
   "metadata": {},
   "source": [
    ": there are no null values"
   ]
  },
  {
   "cell_type": "markdown",
   "id": "589a60fe",
   "metadata": {},
   "source": [
    "# Visualizations based on easily identifiable featuers"
   ]
  },
  {
   "cell_type": "raw",
   "id": "59e93c14",
   "metadata": {},
   "source": [
    "# 1. Count of poisonous vs non-poisonous mushrooms in the dataset"
   ]
  },
  {
   "cell_type": "code",
   "execution_count": 14,
   "id": "b0bc0380",
   "metadata": {},
   "outputs": [
    {
     "data": {
      "image/png": "[encoded data removed]",
      "text/plain": [
       "<Figure size 432x288 with 1 Axes>"
      ]
     },
     "metadata": {},
     "output_type": "display_data"
    }
   ],
   "source": [
    "sns.set_style('darkgrid')\n",
    "ax = sns.countplot(x = df['class'])\n",
    "plt.xticks(ticks = [0, 1], labels = ['poisonous', 'edible'])\n",
    "rects = ax.patches\n",
    "for bar in rects:\n",
    "    y_value = bar.get_height()\n",
    "    x_value = bar.get_x() + bar.get_width()/2\n",
    "    ax.annotate(f'\\n{y_value}', (x_value, y_value), va='top', ha='center')\n",
    "plt.show()"
   ]
  },
  {
   "cell_type": "markdown",
   "id": "773b3dc4",
   "metadata": {},
   "source": [
    "The dataset is mostly balenced"
   ]
  },
  {
   "cell_type": "raw",
   "id": "c9df5fab",
   "metadata": {},
   "source": [
    "2. Cap color of mushrooms"
   ]
  },
  {
   "cell_type": "code",
   "execution_count": 15,
   "id": "693a1603",
   "metadata": {},
   "outputs": [
    {
     "data": {
      "image/png": "[encoded data removed]",
      "text/plain": [
       "<Figure size 576x360 with 1 Axes>"
      ]
     },
     "metadata": {},
     "output_type": "display_data"
    }
   ],
   "source": [
    "plt.figure(figsize=(8, 5))\n",
    "sns.countplot(data = df, x = 'cap-color', hue='class')\n",
    "plt.xticks(ticks = [0, 1, 2, 3, 4, 5, 6, 7, 8, 9], \n",
    "           labels = ['brown', 'yellow', 'white', 'grey', 'red', 'pink', 'buff', 'purple', 'cinnamon', 'green'], fontsize = 13, rotation = 60)\n",
    "plt.xlabel('cap-color', fontsize=14)\n",
    "plt.ylabel('count', fontsize = 14)\n",
    "plt.title('Cap color of mushrooms: edible vs poisonous', fontsize = 15)\n",
    "plt.legend(labels=['poisonous', 'edible'], loc='upper right')\n",
    "plt.show()"
   ]
  },
  {
   "cell_type": "markdown",
   "id": "735d30d9",
   "metadata": {},
   "source": [
    "As we can see, it is not a good idea to distinguish mushrooms based on color, as we can't get a clear idea"
   ]
  },
  {
   "cell_type": "raw",
   "id": "15d3fc98",
   "metadata": {},
   "source": [
    "3. odour of mashrooms"
   ]
  },
  {
   "cell_type": "code",
   "execution_count": 16,
   "id": "b5f767c9",
   "metadata": {},
   "outputs": [
    {
     "data": {
      "image/png": "[encoded data removed]",
      "text/plain": [
       "<Figure size 576x360 with 1 Axes>"
      ]
     },
     "metadata": {},
     "output_type": "display_data"
    }
   ],
   "source": [
    "plt.figure(figsize=(8, 5))\n",
    "sns.countplot(data = df, x = 'odor', hue='class')\n",
    "plt.xticks(ticks = [0, 1, 2, 3, 4, 5, 6, 7, 8], \n",
    "           labels = ['pungent', 'almond', 'anise', 'none', 'foul', 'creosote', 'fishy', 'spicy', 'musty'], fontsize = 13, rotation = 60)\n",
    "plt.xlabel('Odour', fontsize=14)\n",
    "plt.ylabel('Count', fontsize = 14)\n",
    "plt.title('Odour of Mushrooms: edible vs poisonous', fontsize = 15)\n",
    "plt.legend(labels=['poisonous', 'edible'], loc='upper right')\n",
    "plt.show()"
   ]
  },
  {
   "cell_type": "markdown",
   "id": "269422fd",
   "metadata": {},
   "source": [
    ":Strong smelling mushrooms that have foul or fishy odour are poisonous"
   ]
  },
  {
   "cell_type": "markdown",
   "id": "e5fb5f59",
   "metadata": {},
   "source": [
    ":Mushrooms with generally seem to be edible"
   ]
  },
  {
   "cell_type": "raw",
   "id": "b5976c37",
   "metadata": {},
   "source": [
    "4. Growth pattern of mashrooms"
   ]
  },
  {
   "cell_type": "code",
   "execution_count": 17,
   "id": "0290b374",
   "metadata": {},
   "outputs": [
    {
     "data": {
      "image/png": "[encoded data removed]",
      "text/plain": [
       "<Figure size 576x360 with 1 Axes>"
      ]
     },
     "metadata": {},
     "output_type": "display_data"
    }
   ],
   "source": [
    "plt.figure(figsize=(8, 5))\n",
    "sns.countplot(data = df, x = 'population', hue='class')\n",
    "plt.xticks(ticks = [0, 1, 2, 3, 4, 5], \n",
    "           labels = ['scattered', 'numerous', 'abundant', 'several', 'solitary', 'clustered'], fontsize = 13, rotation = 60)\n",
    "plt.xlabel('Population', fontsize=14)\n",
    "plt.ylabel('Count', fontsize = 14)\n",
    "plt.title('Population properties of mushrooms: edible vs poisonous', fontsize = 15)\n",
    "plt.legend(labels=['poisonous', 'edible'], loc='upper right')\n",
    "plt.show()"
   ]
  },
  {
   "cell_type": "raw",
   "id": "38d4da36",
   "metadata": {},
   "source": [
    "5.Habitat of growth"
   ]
  },
  {
   "cell_type": "code",
   "execution_count": 18,
   "id": "184b5f27",
   "metadata": {},
   "outputs": [
    {
     "data": {
      "image/png": "[encoded data removed]",
      "text/plain": [
       "<Figure size 576x360 with 1 Axes>"
      ]
     },
     "metadata": {},
     "output_type": "display_data"
    }
   ],
   "source": [
    "plt.figure(figsize=(8, 5))\n",
    "sns.countplot(data = df, x = 'habitat', hue='class')\n",
    "plt.xticks(ticks = [0, 1, 2, 3, 4, 5, 6], \n",
    "           labels = ['urban', 'grasses', 'meadows', 'woods', 'paths', 'waste', 'leaves'], fontsize = 13, rotation = 60)\n",
    "plt.xlabel('Habitat', fontsize=14)\n",
    "plt.ylabel('Count', fontsize = 14)\n",
    "plt.title('Habitats of mushrooms: edible vs poisonous', fontsize = 15)\n",
    "plt.legend(labels=['poisonous', 'edible'], loc='upper right')\n",
    "plt.show()"
   ]
  },
  {
   "cell_type": "markdown",
   "id": "d1bdb4dc",
   "metadata": {},
   "source": [
    "Mushrooms that grow on woods, grasses, leaves or paths have a high chance of being poisonous"
   ]
  },
  {
   "cell_type": "markdown",
   "id": "03fad12f",
   "metadata": {},
   "source": [
    "# feature selection"
   ]
  },
  {
   "cell_type": "markdown",
   "id": "530ee778",
   "metadata": {},
   "source": [
    "Since all features are categorical, we use chi square test to perform feature selection"
   ]
  },
  {
   "cell_type": "code",
   "execution_count": 19,
   "id": "5934d1c4",
   "metadata": {},
   "outputs": [],
   "source": [
    "independent_features = []\n",
    "p_values = []"
   ]
  },
  {
   "cell_type": "markdown",
   "id": "d539ec2e",
   "metadata": {},
   "source": [
    "Ho: The selected feature and target columns are independent"
   ]
  },
  {
   "cell_type": "markdown",
   "id": "37c4e643",
   "metadata": {},
   "source": [
    "Ha: The features are dependent"
   ]
  },
  {
   "cell_type": "markdown",
   "id": "66aad12b",
   "metadata": {},
   "source": [
    "Significance value,alpha:0.05 "
   ]
  },
  {
   "cell_type": "code",
   "execution_count": 20,
   "id": "77236b3c",
   "metadata": {},
   "outputs": [],
   "source": [
    "def independency_test(df1, df2):\n",
    "    contingency_table = pd.crosstab(df1, df2)\n",
    "    observed_values = contingency_table.values\n",
    "    x2, x2_p_value, deg_of_frdm, exp_val = stats.chi2_contingency(observed=observed_values)\n",
    "    return x2_p_value"
   ]
  },
  {
   "cell_type": "code",
   "execution_count": 21,
   "id": "34a885db",
   "metadata": {},
   "outputs": [],
   "source": [
    "for col in df.columns[1:]:\n",
    "    p_val = independency_test(df['class'], df[col])\n",
    "    p_values.append(p_val)\n",
    "    if p_val > 0.05:\n",
    "        independent_features.append(col)"
   ]
  },
  {
   "cell_type": "code",
   "execution_count": 22,
   "id": "63e5cd73",
   "metadata": {},
   "outputs": [
    {
     "name": "stdout",
     "output_type": "stream",
     "text": [
      "The column excluding target are: \n",
      " Index(['cap-shape', 'cap-surface', 'cap-color', 'bruises', 'odor',\n",
      "       'gill-attachment', 'gill-spacing', 'gill-size', 'gill-color',\n",
      "       'stalk-shape', 'stalk-root', 'stalk-surface-above-ring',\n",
      "       'stalk-surface-below-ring', 'stalk-color-above-ring',\n",
      "       'stalk-color-below-ring', 'veil-type', 'veil-color', 'ring-number',\n",
      "       'ring-type', 'spore-print-color', 'population', 'habitat'],\n",
      "      dtype='object')\n"
     ]
    }
   ],
   "source": [
    "print(\"The column excluding target are: \\n\", df.columns[1:])"
   ]
  },
  {
   "cell_type": "code",
   "execution_count": 23,
   "id": "6f068120",
   "metadata": {},
   "outputs": [
    {
     "name": "stdout",
     "output_type": "stream",
     "text": [
      "Corresponding p values are:\n",
      " [1.1964565685935438e-103, 5.518427038649143e-68, 6.055814598336576e-78, 0.0, 0.0, 5.501707411861009e-31, 5.0229776137324786e-216, 0.0, 0.0, 4.604746212155192e-20, 7.702047904943513e-290, 0.0, 0.0, 0.0, 0.0, 1.0, 3.32097274916963e-41, 4.23575764172306e-82, 0.0, 0.0, 0.0, 0.0]\n"
     ]
    }
   ],
   "source": [
    "print('Corresponding p values are:\\n', p_values)"
   ]
  },
  {
   "cell_type": "code",
   "execution_count": 24,
   "id": "a4ee8ea3",
   "metadata": {},
   "outputs": [
    {
     "name": "stdout",
     "output_type": "stream",
     "text": [
      "Independent features are:  ['veil-type']\n"
     ]
    }
   ],
   "source": [
    "print('Independent features are: ', independent_features)"
   ]
  },
  {
   "cell_type": "code",
   "execution_count": 25,
   "id": "368cd91c",
   "metadata": {},
   "outputs": [],
   "source": [
    "df.drop(columns=['veil-type'], axis= 1, inplace = True)"
   ]
  },
  {
   "cell_type": "code",
   "execution_count": 26,
   "id": "d3a23de0",
   "metadata": {},
   "outputs": [
    {
     "data": {
      "text/plain": [
       "(8124, 22)"
      ]
     },
     "execution_count": 26,
     "metadata": {},
     "output_type": "execute_result"
    }
   ],
   "source": [
    "df.shape"
   ]
  },
  {
   "cell_type": "code",
   "execution_count": 27,
   "id": "de3296e1",
   "metadata": {},
   "outputs": [],
   "source": [
    "X = df.drop(columns=['class'], axis = 1)\n",
    "y = df['class']"
   ]
  },
  {
   "cell_type": "markdown",
   "id": "f45061b6",
   "metadata": {},
   "source": [
    "# Encoding"
   ]
  },
  {
   "cell_type": "markdown",
   "id": "ccbe2758",
   "metadata": {},
   "source": [
    "We One-hot encode predictor variables and label encode target column"
   ]
  },
  {
   "cell_type": "code",
   "execution_count": 28,
   "id": "0aa5691a",
   "metadata": {},
   "outputs": [],
   "source": [
    "X = pd.get_dummies(X)"
   ]
  },
  {
   "cell_type": "code",
   "execution_count": 29,
   "id": "3ccf54bd",
   "metadata": {},
   "outputs": [
    {
     "data": {
      "text/plain": [
       "array([1, 0, 0, ..., 0, 1, 0])"
      ]
     },
     "execution_count": 29,
     "metadata": {},
     "output_type": "execute_result"
    }
   ],
   "source": [
    "le = LabelEncoder()\n",
    "y = le.fit_transform(y)\n",
    "y"
   ]
  },
  {
   "cell_type": "markdown",
   "id": "233e9741",
   "metadata": {},
   "source": [
    "We encoded poisonous as 1 and edible as 0!"
   ]
  },
  {
   "cell_type": "code",
   "execution_count": 30,
   "id": "86c8ba5c",
   "metadata": {},
   "outputs": [],
   "source": [
    "X_train, X_test, y_train, y_test = train_test_split(X, y, test_size=0.2, random_state=42)"
   ]
  },
  {
   "cell_type": "markdown",
   "id": "c1e37038",
   "metadata": {},
   "source": [
    "# Model building"
   ]
  },
  {
   "cell_type": "raw",
   "id": "0cd5a00f",
   "metadata": {},
   "source": [
    "1. Logistic Regression"
   ]
  },
  {
   "cell_type": "code",
   "execution_count": 31,
   "id": "3c4b7c3c",
   "metadata": {},
   "outputs": [],
   "source": [
    "lr = LogisticRegression()\n",
    "model_1 = lr.fit(X_train, y_train)\n",
    "lr_predict = model_1.predict(X_test)"
   ]
  },
  {
   "cell_type": "code",
   "execution_count": 32,
   "id": "03fd37f1",
   "metadata": {},
   "outputs": [
    {
     "data": {
      "text/plain": [
       "array([[843,   0],\n",
       "       [  0, 782]], dtype=int64)"
      ]
     },
     "execution_count": 32,
     "metadata": {},
     "output_type": "execute_result"
    }
   ],
   "source": [
    "confusion_matrix(y_test, lr_predict)"
   ]
  },
  {
   "cell_type": "code",
   "execution_count": 33,
   "id": "c7688b59",
   "metadata": {},
   "outputs": [
    {
     "name": "stdout",
     "output_type": "stream",
     "text": [
      "\n",
      "The accuracy score of Logistic regression model is:  100.0\n"
     ]
    }
   ],
   "source": [
    "print('\\nThe accuracy score of Logistic regression model is: ', accuracy_score(y_test, lr_predict)*100)"
   ]
  },
  {
   "cell_type": "raw",
   "id": "39752393",
   "metadata": {},
   "source": [
    "2.Decision tree classifier"
   ]
  },
  {
   "cell_type": "code",
   "execution_count": 35,
   "id": "848f323d",
   "metadata": {},
   "outputs": [],
   "source": [
    "dt = DecisionTreeClassifier()\n",
    "model_2 = dt.fit(X_train, y_train)\n",
    "dt_predict = model_2.predict(X_test)"
   ]
  },
  {
   "cell_type": "code",
   "execution_count": 36,
   "id": "705bbb70",
   "metadata": {},
   "outputs": [
    {
     "data": {
      "text/plain": [
       "array([[843,   0],\n",
       "       [  0, 782]], dtype=int64)"
      ]
     },
     "execution_count": 36,
     "metadata": {},
     "output_type": "execute_result"
    }
   ],
   "source": [
    "confusion_matrix(y_test, dt_predict)"
   ]
  },
  {
   "cell_type": "code",
   "execution_count": 37,
   "id": "d810398b",
   "metadata": {},
   "outputs": [
    {
     "name": "stdout",
     "output_type": "stream",
     "text": [
      "\n",
      "The accuracy score of Decision Tree model is:  100.0\n"
     ]
    }
   ],
   "source": [
    "print('\\nThe accuracy score of Decision Tree model is: ', accuracy_score(y_test, dt_predict)*100)"
   ]
  },
  {
   "cell_type": "raw",
   "id": "ebeed4b7",
   "metadata": {},
   "source": [
    "3. Naive-Bayes"
   ]
  },
  {
   "cell_type": "raw",
   "id": "ce5c98f4",
   "metadata": {},
   "source": [
    "3.1 Gaussian Naive-Bayes"
   ]
  },
  {
   "cell_type": "code",
   "execution_count": 38,
   "id": "e2338c84",
   "metadata": {},
   "outputs": [],
   "source": [
    "gnb = GaussianNB()\n",
    "model_3 = gnb.fit(X_train, y_train)\n",
    "gnb_predict = model_3.predict(X_test)"
   ]
  },
  {
   "cell_type": "code",
   "execution_count": 39,
   "id": "83838d8e",
   "metadata": {},
   "outputs": [
    {
     "data": {
      "text/plain": [
       "array([[778,  65],\n",
       "       [  0, 782]], dtype=int64)"
      ]
     },
     "execution_count": 39,
     "metadata": {},
     "output_type": "execute_result"
    }
   ],
   "source": [
    "confusion_matrix(y_test, gnb_predict)"
   ]
  },
  {
   "cell_type": "code",
   "execution_count": 40,
   "id": "ce86dd21",
   "metadata": {},
   "outputs": [
    {
     "name": "stdout",
     "output_type": "stream",
     "text": [
      "\n",
      "The accuracy score of Decision Tree model is:  96.0\n"
     ]
    }
   ],
   "source": [
    "print('\\nThe accuracy score of Decision Tree model is: ', accuracy_score(y_test, gnb_predict)*100)"
   ]
  },
  {
   "cell_type": "raw",
   "id": "8e3eaa77",
   "metadata": {},
   "source": [
    "3.2 Bernoulli Naive-Bayes"
   ]
  },
  {
   "cell_type": "code",
   "execution_count": 41,
   "id": "8c53b5fc",
   "metadata": {},
   "outputs": [],
   "source": [
    "bnb = BernoulliNB()\n",
    "model_4 = bnb.fit(X_train, y_train)\n",
    "bnb_predict = model_4.predict(X_test)"
   ]
  },
  {
   "cell_type": "code",
   "execution_count": 42,
   "id": "4623a7ee",
   "metadata": {},
   "outputs": [
    {
     "data": {
      "text/plain": [
       "array([[827,  16],\n",
       "       [ 88, 694]], dtype=int64)"
      ]
     },
     "execution_count": 42,
     "metadata": {},
     "output_type": "execute_result"
    }
   ],
   "source": [
    "confusion_matrix(y_test, bnb_predict)"
   ]
  },
  {
   "cell_type": "code",
   "execution_count": 43,
   "id": "3433427c",
   "metadata": {},
   "outputs": [
    {
     "name": "stdout",
     "output_type": "stream",
     "text": [
      "\n",
      "The accuracy score of Decision Tree model is:  93.6\n"
     ]
    }
   ],
   "source": [
    "print('\\nThe accuracy score of Decision Tree model is: ', round(accuracy_score(y_test, bnb_predict)*100, 3))"
   ]
  },
  {
   "cell_type": "raw",
   "id": "d26b8a7a",
   "metadata": {},
   "source": [
    "3.3 Multinomial Naive-Bayes"
   ]
  },
  {
   "cell_type": "code",
   "execution_count": 44,
   "id": "1052a15a",
   "metadata": {},
   "outputs": [],
   "source": [
    "mnb = MultinomialNB()\n",
    "model_5 = mnb.fit(X_train, y_train)\n",
    "mnb_predict = model_5.predict(X_test)"
   ]
  },
  {
   "cell_type": "code",
   "execution_count": 45,
   "id": "b4dd70dd",
   "metadata": {},
   "outputs": [
    {
     "data": {
      "text/plain": [
       "array([[837,   6],\n",
       "       [ 74, 708]], dtype=int64)"
      ]
     },
     "execution_count": 45,
     "metadata": {},
     "output_type": "execute_result"
    }
   ],
   "source": [
    "confusion_matrix(y_test, mnb_predict)"
   ]
  },
  {
   "cell_type": "code",
   "execution_count": 46,
   "id": "a24433dd",
   "metadata": {},
   "outputs": [
    {
     "name": "stdout",
     "output_type": "stream",
     "text": [
      "\n",
      "The accuracy score of Decision Tree model is:  95.077\n"
     ]
    }
   ],
   "source": [
    "print('\\nThe accuracy score of Decision Tree model is: ', round(accuracy_score(y_test, mnb_predict)*100, 3))"
   ]
  },
  {
   "cell_type": "markdown",
   "id": "fcc8d183",
   "metadata": {},
   "source": [
    ":Logistic Regression and Decision Tree models give 100% accuracy"
   ]
  },
  {
   "cell_type": "markdown",
   "id": "96cf31c1",
   "metadata": {},
   "source": [
    ":Gaussian Naive-Bayes is better among Naive-Bayes models with 96% accuracy"
   ]
  },
  {
   "cell_type": "code",
   "execution_count": null,
   "id": "fb2c448c",
   "metadata": {},
   "outputs": [],
   "source": []
  }
 ],
 "metadata": {
  "kernelspec": {
   "display_name": "Python 3 (ipykernel)",
   "language": "python",
   "name": "python3"
  },
  "language_info": {
   "codemirror_mode": {
    "name": "ipython",
    "version": 3
   },
   "file_extension": ".py",
   "mimetype": "text/x-python",
   "name": "python",
   "nbconvert_exporter": "python",
   "pygments_lexer": "ipython3",
   "version": "3.9.7"
  }
 },
 "nbformat": 4,
 "nbformat_minor": 5
}
